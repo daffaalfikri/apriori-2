{
  "nbformat": 4,
  "nbformat_minor": 0,
  "metadata": {
    "colab": {
      "provenance": []
    },
    "kernelspec": {
      "name": "python3",
      "display_name": "Python 3"
    },
    "language_info": {
      "name": "python"
    }
  },
  "cells": [
    {
      "cell_type": "markdown",
      "source": [
        "**Nama : M Daffa Alfikri**<br>\n",
        "**NIM : 211351076**<br>\n",
        "**Kelas : IF PAGI A**<br>"
      ],
      "metadata": {
        "id": "Wq8Tk6c0HUi9"
      }
    },
    {
      "cell_type": "markdown",
      "source": [
        "#Impor Libary yang di butuhkan"
      ],
      "metadata": {
        "id": "n-7fnrSR9bNV"
      }
    },
    {
      "cell_type": "code",
      "execution_count": 1,
      "metadata": {
        "colab": {
          "base_uri": "https://localhost:8080/"
        },
        "id": "fSufjx_S9aIK",
        "outputId": "8e4bcac3-4742-4d8c-f93d-b3d2a3c5c95d"
      },
      "outputs": [
        {
          "output_type": "stream",
          "name": "stdout",
          "text": [
            "Collecting apriori\n",
            "  Downloading apriori-1.0.0.tar.gz (1.8 kB)\n",
            "  Preparing metadata (setup.py) ... \u001b[?25l\u001b[?25hdone\n",
            "Building wheels for collected packages: apriori\n",
            "  Building wheel for apriori (setup.py) ... \u001b[?25l\u001b[?25hdone\n",
            "  Created wheel for apriori: filename=apriori-1.0.0-py3-none-any.whl size=2455 sha256=dc51c5f6e9efeb0a77b2685a80c5959b6b9f53e36494d921f75dc7304eb103b0\n",
            "  Stored in directory: /root/.cache/pip/wheels/8c/fa/83/25b9cb17d884f97f2e62d97d0818bbed8117e89a6b09c37dc3\n",
            "Successfully built apriori\n",
            "Installing collected packages: apriori\n",
            "Successfully installed apriori-1.0.0\n"
          ]
        }
      ],
      "source": [
        "!pip install apriori"
      ]
    },
    {
      "cell_type": "code",
      "source": [
        "import pandas as pd\n",
        "import numpy as np\n",
        "import seaborn as sns\n",
        "import matplotlib.pyplot as plt\n",
        "%matplotlib inline\n",
        "from mlxtend.frequent_patterns import apriori, association_rules"
      ],
      "metadata": {
        "id": "sYIsjC9J9h8G"
      },
      "execution_count": 3,
      "outputs": []
    },
    {
      "cell_type": "markdown",
      "source": [
        "#Import Dataset Kaggle"
      ],
      "metadata": {
        "id": "iM8frNs29_TL"
      }
    },
    {
      "cell_type": "code",
      "source": [
        "from google.colab import files\n",
        "files.upload()"
      ],
      "metadata": {
        "colab": {
          "base_uri": "https://localhost:8080/",
          "height": 166
        },
        "id": "poSiLKED92hg",
        "outputId": "e4348f0f-e447-4765-bc14-8e2775ba8b80"
      },
      "execution_count": 4,
      "outputs": [
        {
          "output_type": "stream",
          "name": "stderr",
          "text": [
            "/usr/local/lib/python3.10/dist-packages/ipykernel/ipkernel.py:283: DeprecationWarning: `should_run_async` will not call `transform_cell` automatically in the future. Please pass the result to `transformed_cell` argument and any exception that happen during thetransform in `preprocessing_exc_tuple` in IPython 7.17 and above.\n",
            "  and should_run_async(code)\n"
          ]
        },
        {
          "output_type": "display_data",
          "data": {
            "text/plain": [
              "<IPython.core.display.HTML object>"
            ],
            "text/html": [
              "\n",
              "     <input type=\"file\" id=\"files-c3849e45-bae4-4b04-af1e-73bd8c45991a\" name=\"files[]\" multiple disabled\n",
              "        style=\"border:none\" />\n",
              "     <output id=\"result-c3849e45-bae4-4b04-af1e-73bd8c45991a\">\n",
              "      Upload widget is only available when the cell has been executed in the\n",
              "      current browser session. Please rerun this cell to enable.\n",
              "      </output>\n",
              "      <script>// Copyright 2017 Google LLC\n",
              "//\n",
              "// Licensed under the Apache License, Version 2.0 (the \"License\");\n",
              "// you may not use this file except in compliance with the License.\n",
              "// You may obtain a copy of the License at\n",
              "//\n",
              "//      http://www.apache.org/licenses/LICENSE-2.0\n",
              "//\n",
              "// Unless required by applicable law or agreed to in writing, software\n",
              "// distributed under the License is distributed on an \"AS IS\" BASIS,\n",
              "// WITHOUT WARRANTIES OR CONDITIONS OF ANY KIND, either express or implied.\n",
              "// See the License for the specific language governing permissions and\n",
              "// limitations under the License.\n",
              "\n",
              "/**\n",
              " * @fileoverview Helpers for google.colab Python module.\n",
              " */\n",
              "(function(scope) {\n",
              "function span(text, styleAttributes = {}) {\n",
              "  const element = document.createElement('span');\n",
              "  element.textContent = text;\n",
              "  for (const key of Object.keys(styleAttributes)) {\n",
              "    element.style[key] = styleAttributes[key];\n",
              "  }\n",
              "  return element;\n",
              "}\n",
              "\n",
              "// Max number of bytes which will be uploaded at a time.\n",
              "const MAX_PAYLOAD_SIZE = 100 * 1024;\n",
              "\n",
              "function _uploadFiles(inputId, outputId) {\n",
              "  const steps = uploadFilesStep(inputId, outputId);\n",
              "  const outputElement = document.getElementById(outputId);\n",
              "  // Cache steps on the outputElement to make it available for the next call\n",
              "  // to uploadFilesContinue from Python.\n",
              "  outputElement.steps = steps;\n",
              "\n",
              "  return _uploadFilesContinue(outputId);\n",
              "}\n",
              "\n",
              "// This is roughly an async generator (not supported in the browser yet),\n",
              "// where there are multiple asynchronous steps and the Python side is going\n",
              "// to poll for completion of each step.\n",
              "// This uses a Promise to block the python side on completion of each step,\n",
              "// then passes the result of the previous step as the input to the next step.\n",
              "function _uploadFilesContinue(outputId) {\n",
              "  const outputElement = document.getElementById(outputId);\n",
              "  const steps = outputElement.steps;\n",
              "\n",
              "  const next = steps.next(outputElement.lastPromiseValue);\n",
              "  return Promise.resolve(next.value.promise).then((value) => {\n",
              "    // Cache the last promise value to make it available to the next\n",
              "    // step of the generator.\n",
              "    outputElement.lastPromiseValue = value;\n",
              "    return next.value.response;\n",
              "  });\n",
              "}\n",
              "\n",
              "/**\n",
              " * Generator function which is called between each async step of the upload\n",
              " * process.\n",
              " * @param {string} inputId Element ID of the input file picker element.\n",
              " * @param {string} outputId Element ID of the output display.\n",
              " * @return {!Iterable<!Object>} Iterable of next steps.\n",
              " */\n",
              "function* uploadFilesStep(inputId, outputId) {\n",
              "  const inputElement = document.getElementById(inputId);\n",
              "  inputElement.disabled = false;\n",
              "\n",
              "  const outputElement = document.getElementById(outputId);\n",
              "  outputElement.innerHTML = '';\n",
              "\n",
              "  const pickedPromise = new Promise((resolve) => {\n",
              "    inputElement.addEventListener('change', (e) => {\n",
              "      resolve(e.target.files);\n",
              "    });\n",
              "  });\n",
              "\n",
              "  const cancel = document.createElement('button');\n",
              "  inputElement.parentElement.appendChild(cancel);\n",
              "  cancel.textContent = 'Cancel upload';\n",
              "  const cancelPromise = new Promise((resolve) => {\n",
              "    cancel.onclick = () => {\n",
              "      resolve(null);\n",
              "    };\n",
              "  });\n",
              "\n",
              "  // Wait for the user to pick the files.\n",
              "  const files = yield {\n",
              "    promise: Promise.race([pickedPromise, cancelPromise]),\n",
              "    response: {\n",
              "      action: 'starting',\n",
              "    }\n",
              "  };\n",
              "\n",
              "  cancel.remove();\n",
              "\n",
              "  // Disable the input element since further picks are not allowed.\n",
              "  inputElement.disabled = true;\n",
              "\n",
              "  if (!files) {\n",
              "    return {\n",
              "      response: {\n",
              "        action: 'complete',\n",
              "      }\n",
              "    };\n",
              "  }\n",
              "\n",
              "  for (const file of files) {\n",
              "    const li = document.createElement('li');\n",
              "    li.append(span(file.name, {fontWeight: 'bold'}));\n",
              "    li.append(span(\n",
              "        `(${file.type || 'n/a'}) - ${file.size} bytes, ` +\n",
              "        `last modified: ${\n",
              "            file.lastModifiedDate ? file.lastModifiedDate.toLocaleDateString() :\n",
              "                                    'n/a'} - `));\n",
              "    const percent = span('0% done');\n",
              "    li.appendChild(percent);\n",
              "\n",
              "    outputElement.appendChild(li);\n",
              "\n",
              "    const fileDataPromise = new Promise((resolve) => {\n",
              "      const reader = new FileReader();\n",
              "      reader.onload = (e) => {\n",
              "        resolve(e.target.result);\n",
              "      };\n",
              "      reader.readAsArrayBuffer(file);\n",
              "    });\n",
              "    // Wait for the data to be ready.\n",
              "    let fileData = yield {\n",
              "      promise: fileDataPromise,\n",
              "      response: {\n",
              "        action: 'continue',\n",
              "      }\n",
              "    };\n",
              "\n",
              "    // Use a chunked sending to avoid message size limits. See b/62115660.\n",
              "    let position = 0;\n",
              "    do {\n",
              "      const length = Math.min(fileData.byteLength - position, MAX_PAYLOAD_SIZE);\n",
              "      const chunk = new Uint8Array(fileData, position, length);\n",
              "      position += length;\n",
              "\n",
              "      const base64 = btoa(String.fromCharCode.apply(null, chunk));\n",
              "      yield {\n",
              "        response: {\n",
              "          action: 'append',\n",
              "          file: file.name,\n",
              "          data: base64,\n",
              "        },\n",
              "      };\n",
              "\n",
              "      let percentDone = fileData.byteLength === 0 ?\n",
              "          100 :\n",
              "          Math.round((position / fileData.byteLength) * 100);\n",
              "      percent.textContent = `${percentDone}% done`;\n",
              "\n",
              "    } while (position < fileData.byteLength);\n",
              "  }\n",
              "\n",
              "  // All done.\n",
              "  yield {\n",
              "    response: {\n",
              "      action: 'complete',\n",
              "    }\n",
              "  };\n",
              "}\n",
              "\n",
              "scope.google = scope.google || {};\n",
              "scope.google.colab = scope.google.colab || {};\n",
              "scope.google.colab._files = {\n",
              "  _uploadFiles,\n",
              "  _uploadFilesContinue,\n",
              "};\n",
              "})(self);\n",
              "</script> "
            ]
          },
          "metadata": {}
        },
        {
          "output_type": "stream",
          "name": "stdout",
          "text": [
            "Saving kaggle.json to kaggle.json\n"
          ]
        },
        {
          "output_type": "execute_result",
          "data": {
            "text/plain": [
              "{'kaggle.json': b'{\"username\":\"mdaffaalfikri\",\"key\":\"a78463a07a1a19d94875f1f001178055\"}'}"
            ]
          },
          "metadata": {},
          "execution_count": 4
        }
      ]
    },
    {
      "cell_type": "code",
      "source": [
        "!mkdir -p ~/.kaggle\n",
        "!cp kaggle.json ~/.kaggle/\n",
        "!chmod 600 ~/.kaggle/kaggle.json\n",
        "!ls ~/.kaggle"
      ],
      "metadata": {
        "colab": {
          "base_uri": "https://localhost:8080/"
        },
        "id": "uLI_eaO8-Dsm",
        "outputId": "a9cb8a31-a810-48f3-ccfa-f462a1089f12"
      },
      "execution_count": 5,
      "outputs": [
        {
          "output_type": "stream",
          "name": "stderr",
          "text": [
            "/usr/local/lib/python3.10/dist-packages/ipykernel/ipkernel.py:283: DeprecationWarning: `should_run_async` will not call `transform_cell` automatically in the future. Please pass the result to `transformed_cell` argument and any exception that happen during thetransform in `preprocessing_exc_tuple` in IPython 7.17 and above.\n",
            "  and should_run_async(code)\n"
          ]
        },
        {
          "output_type": "stream",
          "name": "stdout",
          "text": [
            "kaggle.json\n"
          ]
        }
      ]
    },
    {
      "cell_type": "code",
      "source": [
        "!kaggle datasets download -d rashikrahmanpritom/groceries-dataset-for-market-basket-analysismba"
      ],
      "metadata": {
        "colab": {
          "base_uri": "https://localhost:8080/"
        },
        "id": "irY-9pTi-Jgt",
        "outputId": "130af38f-0dbc-4761-9884-7887f49d5942"
      },
      "execution_count": 6,
      "outputs": [
        {
          "output_type": "stream",
          "name": "stderr",
          "text": [
            "/usr/local/lib/python3.10/dist-packages/ipykernel/ipkernel.py:283: DeprecationWarning: `should_run_async` will not call `transform_cell` automatically in the future. Please pass the result to `transformed_cell` argument and any exception that happen during thetransform in `preprocessing_exc_tuple` in IPython 7.17 and above.\n",
            "  and should_run_async(code)\n"
          ]
        },
        {
          "output_type": "stream",
          "name": "stdout",
          "text": [
            "Downloading groceries-dataset-for-market-basket-analysismba.zip to /content\n",
            "\r  0% 0.00/455k [00:00<?, ?B/s]\n",
            "\r100% 455k/455k [00:00<00:00, 106MB/s]\n"
          ]
        }
      ]
    },
    {
      "cell_type": "code",
      "source": [
        "!mkdir market\n",
        "!unzip groceries-dataset-for-market-basket-analysismba.zip -d market\n",
        "!ls market"
      ],
      "metadata": {
        "colab": {
          "base_uri": "https://localhost:8080/"
        },
        "id": "eIscs844-RRc",
        "outputId": "fa79896d-53b4-4931-fad4-472f00e8900a"
      },
      "execution_count": 7,
      "outputs": [
        {
          "output_type": "stream",
          "name": "stderr",
          "text": [
            "/usr/local/lib/python3.10/dist-packages/ipykernel/ipkernel.py:283: DeprecationWarning: `should_run_async` will not call `transform_cell` automatically in the future. Please pass the result to `transformed_cell` argument and any exception that happen during thetransform in `preprocessing_exc_tuple` in IPython 7.17 and above.\n",
            "  and should_run_async(code)\n"
          ]
        },
        {
          "output_type": "stream",
          "name": "stdout",
          "text": [
            "Archive:  groceries-dataset-for-market-basket-analysismba.zip\n",
            "  inflating: market/Groceries data.csv  \n",
            "  inflating: market/basket.csv       \n",
            " basket.csv  'Groceries data.csv'\n"
          ]
        }
      ]
    },
    {
      "cell_type": "markdown",
      "source": [
        "#Data Discovery"
      ],
      "metadata": {
        "id": "8CNgShqq-kJv"
      }
    },
    {
      "cell_type": "code",
      "source": [
        "df = pd.read_csv('/content/market/Groceries data.csv')\n",
        "df"
      ],
      "metadata": {
        "colab": {
          "base_uri": "https://localhost:8080/",
          "height": 653
        },
        "id": "Y5Dps-54-eiV",
        "outputId": "39ee4c25-96f0-461b-840e-238dae51cd0a"
      },
      "execution_count": 8,
      "outputs": [
        {
          "output_type": "stream",
          "name": "stderr",
          "text": [
            "/usr/local/lib/python3.10/dist-packages/ipykernel/ipkernel.py:283: DeprecationWarning: `should_run_async` will not call `transform_cell` automatically in the future. Please pass the result to `transformed_cell` argument and any exception that happen during thetransform in `preprocessing_exc_tuple` in IPython 7.17 and above.\n",
            "  and should_run_async(code)\n"
          ]
        },
        {
          "output_type": "execute_result",
          "data": {
            "text/plain": [
              "       Member_number        Date        itemDescription  year  month  day  \\\n",
              "0               1808  2015-07-21         tropical fruit  2015      7   21   \n",
              "1               2552  2015-05-01             whole milk  2015      5    1   \n",
              "2               2300  2015-09-19              pip fruit  2015      9   19   \n",
              "3               1187  2015-12-12       other vegetables  2015     12   12   \n",
              "4               3037  2015-01-02             whole milk  2015      1    2   \n",
              "...              ...         ...                    ...   ...    ...  ...   \n",
              "38760           4471  2014-08-10          sliced cheese  2014      8   10   \n",
              "38761           2022  2014-02-23                  candy  2014      2   23   \n",
              "38762           1097  2014-04-16               cake bar  2014      4   16   \n",
              "38763           1510  2014-03-12  fruit/vegetable juice  2014      3   12   \n",
              "38764           1521  2014-12-26               cat food  2014     12   26   \n",
              "\n",
              "       day_of_week  \n",
              "0                1  \n",
              "1                4  \n",
              "2                5  \n",
              "3                5  \n",
              "4                4  \n",
              "...            ...  \n",
              "38760            6  \n",
              "38761            6  \n",
              "38762            2  \n",
              "38763            2  \n",
              "38764            4  \n",
              "\n",
              "[38765 rows x 7 columns]"
            ],
            "text/html": [
              "\n",
              "  <div id=\"df-b53519d6-9a08-46e0-8407-d7a4b0168960\" class=\"colab-df-container\">\n",
              "    <div>\n",
              "<style scoped>\n",
              "    .dataframe tbody tr th:only-of-type {\n",
              "        vertical-align: middle;\n",
              "    }\n",
              "\n",
              "    .dataframe tbody tr th {\n",
              "        vertical-align: top;\n",
              "    }\n",
              "\n",
              "    .dataframe thead th {\n",
              "        text-align: right;\n",
              "    }\n",
              "</style>\n",
              "<table border=\"1\" class=\"dataframe\">\n",
              "  <thead>\n",
              "    <tr style=\"text-align: right;\">\n",
              "      <th></th>\n",
              "      <th>Member_number</th>\n",
              "      <th>Date</th>\n",
              "      <th>itemDescription</th>\n",
              "      <th>year</th>\n",
              "      <th>month</th>\n",
              "      <th>day</th>\n",
              "      <th>day_of_week</th>\n",
              "    </tr>\n",
              "  </thead>\n",
              "  <tbody>\n",
              "    <tr>\n",
              "      <th>0</th>\n",
              "      <td>1808</td>\n",
              "      <td>2015-07-21</td>\n",
              "      <td>tropical fruit</td>\n",
              "      <td>2015</td>\n",
              "      <td>7</td>\n",
              "      <td>21</td>\n",
              "      <td>1</td>\n",
              "    </tr>\n",
              "    <tr>\n",
              "      <th>1</th>\n",
              "      <td>2552</td>\n",
              "      <td>2015-05-01</td>\n",
              "      <td>whole milk</td>\n",
              "      <td>2015</td>\n",
              "      <td>5</td>\n",
              "      <td>1</td>\n",
              "      <td>4</td>\n",
              "    </tr>\n",
              "    <tr>\n",
              "      <th>2</th>\n",
              "      <td>2300</td>\n",
              "      <td>2015-09-19</td>\n",
              "      <td>pip fruit</td>\n",
              "      <td>2015</td>\n",
              "      <td>9</td>\n",
              "      <td>19</td>\n",
              "      <td>5</td>\n",
              "    </tr>\n",
              "    <tr>\n",
              "      <th>3</th>\n",
              "      <td>1187</td>\n",
              "      <td>2015-12-12</td>\n",
              "      <td>other vegetables</td>\n",
              "      <td>2015</td>\n",
              "      <td>12</td>\n",
              "      <td>12</td>\n",
              "      <td>5</td>\n",
              "    </tr>\n",
              "    <tr>\n",
              "      <th>4</th>\n",
              "      <td>3037</td>\n",
              "      <td>2015-01-02</td>\n",
              "      <td>whole milk</td>\n",
              "      <td>2015</td>\n",
              "      <td>1</td>\n",
              "      <td>2</td>\n",
              "      <td>4</td>\n",
              "    </tr>\n",
              "    <tr>\n",
              "      <th>...</th>\n",
              "      <td>...</td>\n",
              "      <td>...</td>\n",
              "      <td>...</td>\n",
              "      <td>...</td>\n",
              "      <td>...</td>\n",
              "      <td>...</td>\n",
              "      <td>...</td>\n",
              "    </tr>\n",
              "    <tr>\n",
              "      <th>38760</th>\n",
              "      <td>4471</td>\n",
              "      <td>2014-08-10</td>\n",
              "      <td>sliced cheese</td>\n",
              "      <td>2014</td>\n",
              "      <td>8</td>\n",
              "      <td>10</td>\n",
              "      <td>6</td>\n",
              "    </tr>\n",
              "    <tr>\n",
              "      <th>38761</th>\n",
              "      <td>2022</td>\n",
              "      <td>2014-02-23</td>\n",
              "      <td>candy</td>\n",
              "      <td>2014</td>\n",
              "      <td>2</td>\n",
              "      <td>23</td>\n",
              "      <td>6</td>\n",
              "    </tr>\n",
              "    <tr>\n",
              "      <th>38762</th>\n",
              "      <td>1097</td>\n",
              "      <td>2014-04-16</td>\n",
              "      <td>cake bar</td>\n",
              "      <td>2014</td>\n",
              "      <td>4</td>\n",
              "      <td>16</td>\n",
              "      <td>2</td>\n",
              "    </tr>\n",
              "    <tr>\n",
              "      <th>38763</th>\n",
              "      <td>1510</td>\n",
              "      <td>2014-03-12</td>\n",
              "      <td>fruit/vegetable juice</td>\n",
              "      <td>2014</td>\n",
              "      <td>3</td>\n",
              "      <td>12</td>\n",
              "      <td>2</td>\n",
              "    </tr>\n",
              "    <tr>\n",
              "      <th>38764</th>\n",
              "      <td>1521</td>\n",
              "      <td>2014-12-26</td>\n",
              "      <td>cat food</td>\n",
              "      <td>2014</td>\n",
              "      <td>12</td>\n",
              "      <td>26</td>\n",
              "      <td>4</td>\n",
              "    </tr>\n",
              "  </tbody>\n",
              "</table>\n",
              "<p>38765 rows × 7 columns</p>\n",
              "</div>\n",
              "    <div class=\"colab-df-buttons\">\n",
              "\n",
              "  <div class=\"colab-df-container\">\n",
              "    <button class=\"colab-df-convert\" onclick=\"convertToInteractive('df-b53519d6-9a08-46e0-8407-d7a4b0168960')\"\n",
              "            title=\"Convert this dataframe to an interactive table.\"\n",
              "            style=\"display:none;\">\n",
              "\n",
              "  <svg xmlns=\"http://www.w3.org/2000/svg\" height=\"24px\" viewBox=\"0 -960 960 960\">\n",
              "    <path d=\"M120-120v-720h720v720H120Zm60-500h600v-160H180v160Zm220 220h160v-160H400v160Zm0 220h160v-160H400v160ZM180-400h160v-160H180v160Zm440 0h160v-160H620v160ZM180-180h160v-160H180v160Zm440 0h160v-160H620v160Z\"/>\n",
              "  </svg>\n",
              "    </button>\n",
              "\n",
              "  <style>\n",
              "    .colab-df-container {\n",
              "      display:flex;\n",
              "      gap: 12px;\n",
              "    }\n",
              "\n",
              "    .colab-df-convert {\n",
              "      background-color: #E8F0FE;\n",
              "      border: none;\n",
              "      border-radius: 50%;\n",
              "      cursor: pointer;\n",
              "      display: none;\n",
              "      fill: #1967D2;\n",
              "      height: 32px;\n",
              "      padding: 0 0 0 0;\n",
              "      width: 32px;\n",
              "    }\n",
              "\n",
              "    .colab-df-convert:hover {\n",
              "      background-color: #E2EBFA;\n",
              "      box-shadow: 0px 1px 2px rgba(60, 64, 67, 0.3), 0px 1px 3px 1px rgba(60, 64, 67, 0.15);\n",
              "      fill: #174EA6;\n",
              "    }\n",
              "\n",
              "    .colab-df-buttons div {\n",
              "      margin-bottom: 4px;\n",
              "    }\n",
              "\n",
              "    [theme=dark] .colab-df-convert {\n",
              "      background-color: #3B4455;\n",
              "      fill: #D2E3FC;\n",
              "    }\n",
              "\n",
              "    [theme=dark] .colab-df-convert:hover {\n",
              "      background-color: #434B5C;\n",
              "      box-shadow: 0px 1px 3px 1px rgba(0, 0, 0, 0.15);\n",
              "      filter: drop-shadow(0px 1px 2px rgba(0, 0, 0, 0.3));\n",
              "      fill: #FFFFFF;\n",
              "    }\n",
              "  </style>\n",
              "\n",
              "    <script>\n",
              "      const buttonEl =\n",
              "        document.querySelector('#df-b53519d6-9a08-46e0-8407-d7a4b0168960 button.colab-df-convert');\n",
              "      buttonEl.style.display =\n",
              "        google.colab.kernel.accessAllowed ? 'block' : 'none';\n",
              "\n",
              "      async function convertToInteractive(key) {\n",
              "        const element = document.querySelector('#df-b53519d6-9a08-46e0-8407-d7a4b0168960');\n",
              "        const dataTable =\n",
              "          await google.colab.kernel.invokeFunction('convertToInteractive',\n",
              "                                                    [key], {});\n",
              "        if (!dataTable) return;\n",
              "\n",
              "        const docLinkHtml = 'Like what you see? Visit the ' +\n",
              "          '<a target=\"_blank\" href=https://colab.research.google.com/notebooks/data_table.ipynb>data table notebook</a>'\n",
              "          + ' to learn more about interactive tables.';\n",
              "        element.innerHTML = '';\n",
              "        dataTable['output_type'] = 'display_data';\n",
              "        await google.colab.output.renderOutput(dataTable, element);\n",
              "        const docLink = document.createElement('div');\n",
              "        docLink.innerHTML = docLinkHtml;\n",
              "        element.appendChild(docLink);\n",
              "      }\n",
              "    </script>\n",
              "  </div>\n",
              "\n",
              "\n",
              "<div id=\"df-2dfc5dfc-d31b-4217-bb60-8bf852878a5b\">\n",
              "  <button class=\"colab-df-quickchart\" onclick=\"quickchart('df-2dfc5dfc-d31b-4217-bb60-8bf852878a5b')\"\n",
              "            title=\"Suggest charts\"\n",
              "            style=\"display:none;\">\n",
              "\n",
              "<svg xmlns=\"http://www.w3.org/2000/svg\" height=\"24px\"viewBox=\"0 0 24 24\"\n",
              "     width=\"24px\">\n",
              "    <g>\n",
              "        <path d=\"M19 3H5c-1.1 0-2 .9-2 2v14c0 1.1.9 2 2 2h14c1.1 0 2-.9 2-2V5c0-1.1-.9-2-2-2zM9 17H7v-7h2v7zm4 0h-2V7h2v10zm4 0h-2v-4h2v4z\"/>\n",
              "    </g>\n",
              "</svg>\n",
              "  </button>\n",
              "\n",
              "<style>\n",
              "  .colab-df-quickchart {\n",
              "      --bg-color: #E8F0FE;\n",
              "      --fill-color: #1967D2;\n",
              "      --hover-bg-color: #E2EBFA;\n",
              "      --hover-fill-color: #174EA6;\n",
              "      --disabled-fill-color: #AAA;\n",
              "      --disabled-bg-color: #DDD;\n",
              "  }\n",
              "\n",
              "  [theme=dark] .colab-df-quickchart {\n",
              "      --bg-color: #3B4455;\n",
              "      --fill-color: #D2E3FC;\n",
              "      --hover-bg-color: #434B5C;\n",
              "      --hover-fill-color: #FFFFFF;\n",
              "      --disabled-bg-color: #3B4455;\n",
              "      --disabled-fill-color: #666;\n",
              "  }\n",
              "\n",
              "  .colab-df-quickchart {\n",
              "    background-color: var(--bg-color);\n",
              "    border: none;\n",
              "    border-radius: 50%;\n",
              "    cursor: pointer;\n",
              "    display: none;\n",
              "    fill: var(--fill-color);\n",
              "    height: 32px;\n",
              "    padding: 0;\n",
              "    width: 32px;\n",
              "  }\n",
              "\n",
              "  .colab-df-quickchart:hover {\n",
              "    background-color: var(--hover-bg-color);\n",
              "    box-shadow: 0 1px 2px rgba(60, 64, 67, 0.3), 0 1px 3px 1px rgba(60, 64, 67, 0.15);\n",
              "    fill: var(--button-hover-fill-color);\n",
              "  }\n",
              "\n",
              "  .colab-df-quickchart-complete:disabled,\n",
              "  .colab-df-quickchart-complete:disabled:hover {\n",
              "    background-color: var(--disabled-bg-color);\n",
              "    fill: var(--disabled-fill-color);\n",
              "    box-shadow: none;\n",
              "  }\n",
              "\n",
              "  .colab-df-spinner {\n",
              "    border: 2px solid var(--fill-color);\n",
              "    border-color: transparent;\n",
              "    border-bottom-color: var(--fill-color);\n",
              "    animation:\n",
              "      spin 1s steps(1) infinite;\n",
              "  }\n",
              "\n",
              "  @keyframes spin {\n",
              "    0% {\n",
              "      border-color: transparent;\n",
              "      border-bottom-color: var(--fill-color);\n",
              "      border-left-color: var(--fill-color);\n",
              "    }\n",
              "    20% {\n",
              "      border-color: transparent;\n",
              "      border-left-color: var(--fill-color);\n",
              "      border-top-color: var(--fill-color);\n",
              "    }\n",
              "    30% {\n",
              "      border-color: transparent;\n",
              "      border-left-color: var(--fill-color);\n",
              "      border-top-color: var(--fill-color);\n",
              "      border-right-color: var(--fill-color);\n",
              "    }\n",
              "    40% {\n",
              "      border-color: transparent;\n",
              "      border-right-color: var(--fill-color);\n",
              "      border-top-color: var(--fill-color);\n",
              "    }\n",
              "    60% {\n",
              "      border-color: transparent;\n",
              "      border-right-color: var(--fill-color);\n",
              "    }\n",
              "    80% {\n",
              "      border-color: transparent;\n",
              "      border-right-color: var(--fill-color);\n",
              "      border-bottom-color: var(--fill-color);\n",
              "    }\n",
              "    90% {\n",
              "      border-color: transparent;\n",
              "      border-bottom-color: var(--fill-color);\n",
              "    }\n",
              "  }\n",
              "</style>\n",
              "\n",
              "  <script>\n",
              "    async function quickchart(key) {\n",
              "      const quickchartButtonEl =\n",
              "        document.querySelector('#' + key + ' button');\n",
              "      quickchartButtonEl.disabled = true;  // To prevent multiple clicks.\n",
              "      quickchartButtonEl.classList.add('colab-df-spinner');\n",
              "      try {\n",
              "        const charts = await google.colab.kernel.invokeFunction(\n",
              "            'suggestCharts', [key], {});\n",
              "      } catch (error) {\n",
              "        console.error('Error during call to suggestCharts:', error);\n",
              "      }\n",
              "      quickchartButtonEl.classList.remove('colab-df-spinner');\n",
              "      quickchartButtonEl.classList.add('colab-df-quickchart-complete');\n",
              "    }\n",
              "    (() => {\n",
              "      let quickchartButtonEl =\n",
              "        document.querySelector('#df-2dfc5dfc-d31b-4217-bb60-8bf852878a5b button');\n",
              "      quickchartButtonEl.style.display =\n",
              "        google.colab.kernel.accessAllowed ? 'block' : 'none';\n",
              "    })();\n",
              "  </script>\n",
              "</div>\n",
              "    </div>\n",
              "  </div>\n"
            ]
          },
          "metadata": {},
          "execution_count": 8
        }
      ]
    },
    {
      "cell_type": "code",
      "source": [
        "# di sini kita cek tipe data dari setiap kolom\n",
        "print('Dataset Information: \\n')\n",
        "print(df.info())"
      ],
      "metadata": {
        "colab": {
          "base_uri": "https://localhost:8080/"
        },
        "id": "-6lBwc6i-1ER",
        "outputId": "9f89841a-dc84-4f3d-8e4a-979c9325d736"
      },
      "execution_count": 9,
      "outputs": [
        {
          "output_type": "stream",
          "name": "stdout",
          "text": [
            "Dataset Information: \n",
            "\n",
            "<class 'pandas.core.frame.DataFrame'>\n",
            "RangeIndex: 38765 entries, 0 to 38764\n",
            "Data columns (total 7 columns):\n",
            " #   Column           Non-Null Count  Dtype \n",
            "---  ------           --------------  ----- \n",
            " 0   Member_number    38765 non-null  int64 \n",
            " 1   Date             38765 non-null  object\n",
            " 2   itemDescription  38765 non-null  object\n",
            " 3   year             38765 non-null  int64 \n",
            " 4   month            38765 non-null  int64 \n",
            " 5   day              38765 non-null  int64 \n",
            " 6   day_of_week      38765 non-null  int64 \n",
            "dtypes: int64(5), object(2)\n",
            "memory usage: 2.1+ MB\n",
            "None\n"
          ]
        },
        {
          "output_type": "stream",
          "name": "stderr",
          "text": [
            "/usr/local/lib/python3.10/dist-packages/ipykernel/ipkernel.py:283: DeprecationWarning: `should_run_async` will not call `transform_cell` automatically in the future. Please pass the result to `transformed_cell` argument and any exception that happen during thetransform in `preprocessing_exc_tuple` in IPython 7.17 and above.\n",
            "  and should_run_async(code)\n"
          ]
        }
      ]
    },
    {
      "cell_type": "code",
      "source": [
        "# dan kita mencetak 10 data pertama\n",
        "print('First Ten Rows of the DataFrame: \\n')\n",
        "print(df.head(10))"
      ],
      "metadata": {
        "colab": {
          "base_uri": "https://localhost:8080/"
        },
        "id": "qwtmG59J-6JG",
        "outputId": "f7d0c72b-2282-4cd0-9302-e818beaf5b48"
      },
      "execution_count": 10,
      "outputs": [
        {
          "output_type": "stream",
          "name": "stdout",
          "text": [
            "First Ten Rows of the DataFrame: \n",
            "\n",
            "   Member_number        Date   itemDescription  year  month  day  day_of_week\n",
            "0           1808  2015-07-21    tropical fruit  2015      7   21            1\n",
            "1           2552  2015-05-01        whole milk  2015      5    1            4\n",
            "2           2300  2015-09-19         pip fruit  2015      9   19            5\n",
            "3           1187  2015-12-12  other vegetables  2015     12   12            5\n",
            "4           3037  2015-01-02        whole milk  2015      1    2            4\n",
            "5           4941  2015-02-14        rolls/buns  2015      2   14            5\n",
            "6           4501  2015-08-05  other vegetables  2015      8    5            2\n",
            "7           3803  2015-12-23        pot plants  2015     12   23            2\n",
            "8           2762  2015-03-20        whole milk  2015      3   20            4\n",
            "9           4119  2015-12-02    tropical fruit  2015     12    2            2\n"
          ]
        },
        {
          "output_type": "stream",
          "name": "stderr",
          "text": [
            "/usr/local/lib/python3.10/dist-packages/ipykernel/ipkernel.py:283: DeprecationWarning: `should_run_async` will not call `transform_cell` automatically in the future. Please pass the result to `transformed_cell` argument and any exception that happen during thetransform in `preprocessing_exc_tuple` in IPython 7.17 and above.\n",
            "  and should_run_async(code)\n"
          ]
        }
      ]
    },
    {
      "cell_type": "code",
      "source": [
        "print('Unique itemDescription: ', df['itemDescription'].nunique())"
      ],
      "metadata": {
        "colab": {
          "base_uri": "https://localhost:8080/"
        },
        "id": "gYgB22Cf-9gR",
        "outputId": "957a5010-c869-48e3-a1b6-f21ec2a2ec89"
      },
      "execution_count": 11,
      "outputs": [
        {
          "output_type": "stream",
          "name": "stdout",
          "text": [
            "Unique itemDescription:  167\n"
          ]
        },
        {
          "output_type": "stream",
          "name": "stderr",
          "text": [
            "/usr/local/lib/python3.10/dist-packages/ipykernel/ipkernel.py:283: DeprecationWarning: `should_run_async` will not call `transform_cell` automatically in the future. Please pass the result to `transformed_cell` argument and any exception that happen during thetransform in `preprocessing_exc_tuple` in IPython 7.17 and above.\n",
            "  and should_run_async(code)\n"
          ]
        }
      ]
    },
    {
      "cell_type": "code",
      "source": [
        "#Mencetak data item Description yang unik (memiliki nilai itemDescription berbeda)\n",
        "print('Unique itemDescription: ', df['itemDescription'].nunique())\n",
        "print( '\\n', df['itemDescription'].unique())"
      ],
      "metadata": {
        "colab": {
          "base_uri": "https://localhost:8080/"
        },
        "id": "BlOcW_8x_ARP",
        "outputId": "25851434-b6ac-4dd0-b368-027b0b5a96ac"
      },
      "execution_count": 12,
      "outputs": [
        {
          "output_type": "stream",
          "name": "stdout",
          "text": [
            "Unique itemDescription:  167\n",
            "\n",
            " ['tropical fruit' 'whole milk' 'pip fruit' 'other vegetables' 'rolls/buns'\n",
            " 'pot plants' 'citrus fruit' 'beef' 'frankfurter' 'chicken' 'butter'\n",
            " 'fruit/vegetable juice' 'packaged fruit/vegetables' 'chocolate'\n",
            " 'specialty bar' 'butter milk' 'bottled water' 'yogurt' 'sausage'\n",
            " 'brown bread' 'hamburger meat' 'root vegetables' 'pork' 'pastry'\n",
            " 'canned beer' 'berries' 'coffee' 'misc. beverages' 'ham' 'turkey'\n",
            " 'curd cheese' 'red/blush wine' 'frozen potato products' 'flour' 'sugar'\n",
            " 'frozen meals' 'herbs' 'soda' 'detergent' 'grapes' 'processed cheese'\n",
            " 'fish' 'sparkling wine' 'newspapers' 'curd' 'pasta' 'popcorn'\n",
            " 'finished products' 'beverages' 'bottled beer' 'dessert' 'dog food'\n",
            " 'specialty chocolate' 'condensed milk' 'cleaner' 'white wine' 'meat'\n",
            " 'ice cream' 'hard cheese' 'cream cheese ' 'liquor' 'pickled vegetables'\n",
            " 'liquor (appetizer)' 'UHT-milk' 'candy' 'onions' 'hair spray'\n",
            " 'photo/film' 'domestic eggs' 'margarine' 'shopping bags' 'salt' 'oil'\n",
            " 'whipped/sour cream' 'frozen vegetables' 'sliced cheese' 'dish cleaner'\n",
            " 'baking powder' 'specialty cheese' 'salty snack' 'Instant food products'\n",
            " 'pet care' 'white bread' 'female sanitary products' 'cling film/bags'\n",
            " 'soap' 'frozen chicken' 'house keeping products' 'spread cheese'\n",
            " 'decalcifier' 'frozen dessert' 'vinegar' 'nuts/prunes' 'potato products'\n",
            " 'frozen fish' 'hygiene articles' 'artif. sweetener' 'light bulbs'\n",
            " 'canned vegetables' 'chewing gum' 'canned fish' 'cookware'\n",
            " 'semi-finished bread' 'cat food' 'bathroom cleaner' 'prosecco'\n",
            " 'liver loaf' 'zwieback' 'canned fruit' 'frozen fruits' 'brandy'\n",
            " 'baby cosmetics' 'spices' 'napkins' 'waffles' 'sauces' 'rum'\n",
            " 'chocolate marshmallow' 'long life bakery product' 'bags' 'sweet spreads'\n",
            " 'soups' 'mustard' 'specialty fat' 'instant coffee' 'snack products'\n",
            " 'organic sausage' 'soft cheese' 'mayonnaise' 'dental care'\n",
            " 'roll products ' 'kitchen towels' 'flower soil/fertilizer' 'cereals'\n",
            " 'meat spreads' 'dishes' 'male cosmetics' 'candles' 'whisky' 'tidbits'\n",
            " 'cooking chocolate' 'seasonal products' 'liqueur' 'abrasive cleaner'\n",
            " 'syrup' 'ketchup' 'cream' 'skin care' 'rubbing alcohol' 'nut snack'\n",
            " 'cocoa drinks' 'softener' 'organic products' 'cake bar' 'honey' 'jam'\n",
            " 'kitchen utensil' 'flower (seeds)' 'rice' 'tea' 'salad dressing'\n",
            " 'specialty vegetables' 'pudding powder' 'ready soups' 'make up remover'\n",
            " 'toilet cleaner' 'preservation products']\n"
          ]
        },
        {
          "output_type": "stream",
          "name": "stderr",
          "text": [
            "/usr/local/lib/python3.10/dist-packages/ipykernel/ipkernel.py:283: DeprecationWarning: `should_run_async` will not call `transform_cell` automatically in the future. Please pass the result to `transformed_cell` argument and any exception that happen during thetransform in `preprocessing_exc_tuple` in IPython 7.17 and above.\n",
            "  and should_run_async(code)\n"
          ]
        }
      ]
    },
    {
      "cell_type": "code",
      "source": [
        "# Cek missing value dan zeros\n",
        "print(df.isnull().sum().sort_values(ascending=False))"
      ],
      "metadata": {
        "colab": {
          "base_uri": "https://localhost:8080/"
        },
        "id": "NeXIqfvy_EsS",
        "outputId": "db731e53-bac7-4681-90f3-a0723ab39cfc"
      },
      "execution_count": 13,
      "outputs": [
        {
          "output_type": "stream",
          "name": "stdout",
          "text": [
            "Member_number      0\n",
            "Date               0\n",
            "itemDescription    0\n",
            "year               0\n",
            "month              0\n",
            "day                0\n",
            "day_of_week        0\n",
            "dtype: int64\n"
          ]
        },
        {
          "output_type": "stream",
          "name": "stderr",
          "text": [
            "/usr/local/lib/python3.10/dist-packages/ipykernel/ipkernel.py:283: DeprecationWarning: `should_run_async` will not call `transform_cell` automatically in the future. Please pass the result to `transformed_cell` argument and any exception that happen during thetransform in `preprocessing_exc_tuple` in IPython 7.17 and above.\n",
            "  and should_run_async(code)\n"
          ]
        }
      ]
    },
    {
      "cell_type": "markdown",
      "source": [
        "Terlihat bahwa pada dataset tidak terdapat missing value dan zeros"
      ],
      "metadata": {
        "id": "NCyzybO4_KNr"
      }
    },
    {
      "cell_type": "code",
      "source": [
        "# cek nilai \"NONE\" pada kolom item Description\n",
        "print(df[df['itemDescription']=='NONE'])"
      ],
      "metadata": {
        "colab": {
          "base_uri": "https://localhost:8080/"
        },
        "id": "flyk4JAZ_Hhp",
        "outputId": "4d755514-8b0f-4fc7-ce6d-ff93f0d5d937"
      },
      "execution_count": 14,
      "outputs": [
        {
          "output_type": "stream",
          "name": "stdout",
          "text": [
            "Empty DataFrame\n",
            "Columns: [Member_number, Date, itemDescription, year, month, day, day_of_week]\n",
            "Index: []\n"
          ]
        },
        {
          "output_type": "stream",
          "name": "stderr",
          "text": [
            "/usr/local/lib/python3.10/dist-packages/ipykernel/ipkernel.py:283: DeprecationWarning: `should_run_async` will not call `transform_cell` automatically in the future. Please pass the result to `transformed_cell` argument and any exception that happen during thetransform in `preprocessing_exc_tuple` in IPython 7.17 and above.\n",
            "  and should_run_async(code)\n"
          ]
        }
      ]
    },
    {
      "cell_type": "markdown",
      "source": [
        "tidak terdapat nilai 'NONE' di dataset kita.<br>\n",
        "\n",
        "Seperti yang bisa kita lihat di atas, fitur Tanggal dan Waktu bukanlah tipe numerik. Untuk visualisasi dan pemahaman data yang lebih baik, kita bisa menambahkan beberapa fitur lagi ke DataFrame ini berdasarkan informasi dari dua fitur ini.<br>"
      ],
      "metadata": {
        "id": "Jzr92jWK_WoG"
      }
    },
    {
      "cell_type": "code",
      "source": [
        "# Year (ingat kembali penulisan function lambda)\n",
        "df['Year'] = df['Date'].apply(lambda x: x.split(\"-\")[0])\n",
        "# Month\n",
        "df['Month'] = df['Date'].apply(lambda x: x.split(\"-\")[1])\n",
        "# Day\n",
        "df['Day'] = df['Date'].apply(lambda x: x.split(\"-\")[2])"
      ],
      "metadata": {
        "colab": {
          "base_uri": "https://localhost:8080/"
        },
        "id": "8JEIlotB_Tni",
        "outputId": "4211f0e8-5d38-425a-90c0-53b58fdaf5c1"
      },
      "execution_count": 15,
      "outputs": [
        {
          "output_type": "stream",
          "name": "stderr",
          "text": [
            "/usr/local/lib/python3.10/dist-packages/ipykernel/ipkernel.py:283: DeprecationWarning: `should_run_async` will not call `transform_cell` automatically in the future. Please pass the result to `transformed_cell` argument and any exception that happen during thetransform in `preprocessing_exc_tuple` in IPython 7.17 and above.\n",
            "  and should_run_async(code)\n"
          ]
        }
      ]
    },
    {
      "cell_type": "code",
      "source": [
        "# cek kembali perubahan yang terjadi setelah nilai tahun, bulan dan hari ditampung di fitur baru (year, month, day)\n",
        "print(df.info())\n",
        "print(df.head())"
      ],
      "metadata": {
        "colab": {
          "base_uri": "https://localhost:8080/"
        },
        "id": "v9w4bX8N_esZ",
        "outputId": "d8a8cead-7543-4306-a183-1c8b2779f09b"
      },
      "execution_count": 16,
      "outputs": [
        {
          "output_type": "stream",
          "name": "stdout",
          "text": [
            "<class 'pandas.core.frame.DataFrame'>\n",
            "RangeIndex: 38765 entries, 0 to 38764\n",
            "Data columns (total 10 columns):\n",
            " #   Column           Non-Null Count  Dtype \n",
            "---  ------           --------------  ----- \n",
            " 0   Member_number    38765 non-null  int64 \n",
            " 1   Date             38765 non-null  object\n",
            " 2   itemDescription  38765 non-null  object\n",
            " 3   year             38765 non-null  int64 \n",
            " 4   month            38765 non-null  int64 \n",
            " 5   day              38765 non-null  int64 \n",
            " 6   day_of_week      38765 non-null  int64 \n",
            " 7   Year             38765 non-null  object\n",
            " 8   Month            38765 non-null  object\n",
            " 9   Day              38765 non-null  object\n",
            "dtypes: int64(5), object(5)\n",
            "memory usage: 3.0+ MB\n",
            "None\n",
            "   Member_number        Date   itemDescription  year  month  day  day_of_week  \\\n",
            "0           1808  2015-07-21    tropical fruit  2015      7   21            1   \n",
            "1           2552  2015-05-01        whole milk  2015      5    1            4   \n",
            "2           2300  2015-09-19         pip fruit  2015      9   19            5   \n",
            "3           1187  2015-12-12  other vegetables  2015     12   12            5   \n",
            "4           3037  2015-01-02        whole milk  2015      1    2            4   \n",
            "\n",
            "   Year Month Day  \n",
            "0  2015    07  21  \n",
            "1  2015    05  01  \n",
            "2  2015    09  19  \n",
            "3  2015    12  12  \n",
            "4  2015    01  02  \n"
          ]
        },
        {
          "output_type": "stream",
          "name": "stderr",
          "text": [
            "/usr/local/lib/python3.10/dist-packages/ipykernel/ipkernel.py:283: DeprecationWarning: `should_run_async` will not call `transform_cell` automatically in the future. Please pass the result to `transformed_cell` argument and any exception that happen during thetransform in `preprocessing_exc_tuple` in IPython 7.17 and above.\n",
            "  and should_run_async(code)\n"
          ]
        }
      ]
    },
    {
      "cell_type": "markdown",
      "source": [
        "#Visualization"
      ],
      "metadata": {
        "id": "f1r05rEP_t8t"
      }
    },
    {
      "cell_type": "code",
      "source": [
        "# Mencetak 20 data penjualan item Description terbanyak\n",
        "most_sold = df['itemDescription'].value_counts().head(20)\n",
        "\n",
        "print('Most Sold itemDescription: \\n')\n",
        "print(most_sold)"
      ],
      "metadata": {
        "colab": {
          "base_uri": "https://localhost:8080/"
        },
        "id": "mjPhIHhs_iHK",
        "outputId": "fa872ef9-a958-4be9-8eb8-f19b168d9a23"
      },
      "execution_count": 17,
      "outputs": [
        {
          "output_type": "stream",
          "name": "stdout",
          "text": [
            "Most Sold itemDescription: \n",
            "\n",
            "whole milk            2502\n",
            "other vegetables      1898\n",
            "rolls/buns            1716\n",
            "soda                  1514\n",
            "yogurt                1334\n",
            "root vegetables       1071\n",
            "tropical fruit        1032\n",
            "bottled water          933\n",
            "sausage                924\n",
            "citrus fruit           812\n",
            "pastry                 785\n",
            "pip fruit              744\n",
            "shopping bags          731\n",
            "canned beer            717\n",
            "bottled beer           687\n",
            "whipped/sour cream     662\n",
            "newspapers             596\n",
            "frankfurter            580\n",
            "brown bread            571\n",
            "pork                   566\n",
            "Name: itemDescription, dtype: int64\n"
          ]
        },
        {
          "output_type": "stream",
          "name": "stderr",
          "text": [
            "/usr/local/lib/python3.10/dist-packages/ipykernel/ipkernel.py:283: DeprecationWarning: `should_run_async` will not call `transform_cell` automatically in the future. Please pass the result to `transformed_cell` argument and any exception that happen during thetransform in `preprocessing_exc_tuple` in IPython 7.17 and above.\n",
            "  and should_run_async(code)\n"
          ]
        }
      ]
    },
    {
      "cell_type": "code",
      "source": [
        "transaction_count = df.groupby(by='itemDescription')[['Member_number']].count().sort_values(by='Member_number', ascending=False)\n",
        "def convert_to_percentage(x):\n",
        "    return 100 * x / float(x.sum())\n",
        "\n",
        "transaction_percentage = transaction_count.apply(convert_to_percentage)\n",
        "transaction_percentage.head()"
      ],
      "metadata": {
        "colab": {
          "base_uri": "https://localhost:8080/",
          "height": 294
        },
        "id": "5--CYKfD_0LF",
        "outputId": "d1444e56-9342-4ba1-e43f-418073f9b925"
      },
      "execution_count": 18,
      "outputs": [
        {
          "output_type": "stream",
          "name": "stderr",
          "text": [
            "/usr/local/lib/python3.10/dist-packages/ipykernel/ipkernel.py:283: DeprecationWarning: `should_run_async` will not call `transform_cell` automatically in the future. Please pass the result to `transformed_cell` argument and any exception that happen during thetransform in `preprocessing_exc_tuple` in IPython 7.17 and above.\n",
            "  and should_run_async(code)\n"
          ]
        },
        {
          "output_type": "execute_result",
          "data": {
            "text/plain": [
              "                  Member_number\n",
              "itemDescription                \n",
              "whole milk             6.454276\n",
              "other vegetables       4.896169\n",
              "rolls/buns             4.426674\n",
              "soda                   3.905585\n",
              "yogurt                 3.441249"
            ],
            "text/html": [
              "\n",
              "  <div id=\"df-f43eeca7-15ba-4f02-bbb6-bc77de9ce9a8\" class=\"colab-df-container\">\n",
              "    <div>\n",
              "<style scoped>\n",
              "    .dataframe tbody tr th:only-of-type {\n",
              "        vertical-align: middle;\n",
              "    }\n",
              "\n",
              "    .dataframe tbody tr th {\n",
              "        vertical-align: top;\n",
              "    }\n",
              "\n",
              "    .dataframe thead th {\n",
              "        text-align: right;\n",
              "    }\n",
              "</style>\n",
              "<table border=\"1\" class=\"dataframe\">\n",
              "  <thead>\n",
              "    <tr style=\"text-align: right;\">\n",
              "      <th></th>\n",
              "      <th>Member_number</th>\n",
              "    </tr>\n",
              "    <tr>\n",
              "      <th>itemDescription</th>\n",
              "      <th></th>\n",
              "    </tr>\n",
              "  </thead>\n",
              "  <tbody>\n",
              "    <tr>\n",
              "      <th>whole milk</th>\n",
              "      <td>6.454276</td>\n",
              "    </tr>\n",
              "    <tr>\n",
              "      <th>other vegetables</th>\n",
              "      <td>4.896169</td>\n",
              "    </tr>\n",
              "    <tr>\n",
              "      <th>rolls/buns</th>\n",
              "      <td>4.426674</td>\n",
              "    </tr>\n",
              "    <tr>\n",
              "      <th>soda</th>\n",
              "      <td>3.905585</td>\n",
              "    </tr>\n",
              "    <tr>\n",
              "      <th>yogurt</th>\n",
              "      <td>3.441249</td>\n",
              "    </tr>\n",
              "  </tbody>\n",
              "</table>\n",
              "</div>\n",
              "    <div class=\"colab-df-buttons\">\n",
              "\n",
              "  <div class=\"colab-df-container\">\n",
              "    <button class=\"colab-df-convert\" onclick=\"convertToInteractive('df-f43eeca7-15ba-4f02-bbb6-bc77de9ce9a8')\"\n",
              "            title=\"Convert this dataframe to an interactive table.\"\n",
              "            style=\"display:none;\">\n",
              "\n",
              "  <svg xmlns=\"http://www.w3.org/2000/svg\" height=\"24px\" viewBox=\"0 -960 960 960\">\n",
              "    <path d=\"M120-120v-720h720v720H120Zm60-500h600v-160H180v160Zm220 220h160v-160H400v160Zm0 220h160v-160H400v160ZM180-400h160v-160H180v160Zm440 0h160v-160H620v160ZM180-180h160v-160H180v160Zm440 0h160v-160H620v160Z\"/>\n",
              "  </svg>\n",
              "    </button>\n",
              "\n",
              "  <style>\n",
              "    .colab-df-container {\n",
              "      display:flex;\n",
              "      gap: 12px;\n",
              "    }\n",
              "\n",
              "    .colab-df-convert {\n",
              "      background-color: #E8F0FE;\n",
              "      border: none;\n",
              "      border-radius: 50%;\n",
              "      cursor: pointer;\n",
              "      display: none;\n",
              "      fill: #1967D2;\n",
              "      height: 32px;\n",
              "      padding: 0 0 0 0;\n",
              "      width: 32px;\n",
              "    }\n",
              "\n",
              "    .colab-df-convert:hover {\n",
              "      background-color: #E2EBFA;\n",
              "      box-shadow: 0px 1px 2px rgba(60, 64, 67, 0.3), 0px 1px 3px 1px rgba(60, 64, 67, 0.15);\n",
              "      fill: #174EA6;\n",
              "    }\n",
              "\n",
              "    .colab-df-buttons div {\n",
              "      margin-bottom: 4px;\n",
              "    }\n",
              "\n",
              "    [theme=dark] .colab-df-convert {\n",
              "      background-color: #3B4455;\n",
              "      fill: #D2E3FC;\n",
              "    }\n",
              "\n",
              "    [theme=dark] .colab-df-convert:hover {\n",
              "      background-color: #434B5C;\n",
              "      box-shadow: 0px 1px 3px 1px rgba(0, 0, 0, 0.15);\n",
              "      filter: drop-shadow(0px 1px 2px rgba(0, 0, 0, 0.3));\n",
              "      fill: #FFFFFF;\n",
              "    }\n",
              "  </style>\n",
              "\n",
              "    <script>\n",
              "      const buttonEl =\n",
              "        document.querySelector('#df-f43eeca7-15ba-4f02-bbb6-bc77de9ce9a8 button.colab-df-convert');\n",
              "      buttonEl.style.display =\n",
              "        google.colab.kernel.accessAllowed ? 'block' : 'none';\n",
              "\n",
              "      async function convertToInteractive(key) {\n",
              "        const element = document.querySelector('#df-f43eeca7-15ba-4f02-bbb6-bc77de9ce9a8');\n",
              "        const dataTable =\n",
              "          await google.colab.kernel.invokeFunction('convertToInteractive',\n",
              "                                                    [key], {});\n",
              "        if (!dataTable) return;\n",
              "\n",
              "        const docLinkHtml = 'Like what you see? Visit the ' +\n",
              "          '<a target=\"_blank\" href=https://colab.research.google.com/notebooks/data_table.ipynb>data table notebook</a>'\n",
              "          + ' to learn more about interactive tables.';\n",
              "        element.innerHTML = '';\n",
              "        dataTable['output_type'] = 'display_data';\n",
              "        await google.colab.output.renderOutput(dataTable, element);\n",
              "        const docLink = document.createElement('div');\n",
              "        docLink.innerHTML = docLinkHtml;\n",
              "        element.appendChild(docLink);\n",
              "      }\n",
              "    </script>\n",
              "  </div>\n",
              "\n",
              "\n",
              "<div id=\"df-7346a3ac-400d-41f0-a2fd-52a16a170bb4\">\n",
              "  <button class=\"colab-df-quickchart\" onclick=\"quickchart('df-7346a3ac-400d-41f0-a2fd-52a16a170bb4')\"\n",
              "            title=\"Suggest charts\"\n",
              "            style=\"display:none;\">\n",
              "\n",
              "<svg xmlns=\"http://www.w3.org/2000/svg\" height=\"24px\"viewBox=\"0 0 24 24\"\n",
              "     width=\"24px\">\n",
              "    <g>\n",
              "        <path d=\"M19 3H5c-1.1 0-2 .9-2 2v14c0 1.1.9 2 2 2h14c1.1 0 2-.9 2-2V5c0-1.1-.9-2-2-2zM9 17H7v-7h2v7zm4 0h-2V7h2v10zm4 0h-2v-4h2v4z\"/>\n",
              "    </g>\n",
              "</svg>\n",
              "  </button>\n",
              "\n",
              "<style>\n",
              "  .colab-df-quickchart {\n",
              "      --bg-color: #E8F0FE;\n",
              "      --fill-color: #1967D2;\n",
              "      --hover-bg-color: #E2EBFA;\n",
              "      --hover-fill-color: #174EA6;\n",
              "      --disabled-fill-color: #AAA;\n",
              "      --disabled-bg-color: #DDD;\n",
              "  }\n",
              "\n",
              "  [theme=dark] .colab-df-quickchart {\n",
              "      --bg-color: #3B4455;\n",
              "      --fill-color: #D2E3FC;\n",
              "      --hover-bg-color: #434B5C;\n",
              "      --hover-fill-color: #FFFFFF;\n",
              "      --disabled-bg-color: #3B4455;\n",
              "      --disabled-fill-color: #666;\n",
              "  }\n",
              "\n",
              "  .colab-df-quickchart {\n",
              "    background-color: var(--bg-color);\n",
              "    border: none;\n",
              "    border-radius: 50%;\n",
              "    cursor: pointer;\n",
              "    display: none;\n",
              "    fill: var(--fill-color);\n",
              "    height: 32px;\n",
              "    padding: 0;\n",
              "    width: 32px;\n",
              "  }\n",
              "\n",
              "  .colab-df-quickchart:hover {\n",
              "    background-color: var(--hover-bg-color);\n",
              "    box-shadow: 0 1px 2px rgba(60, 64, 67, 0.3), 0 1px 3px 1px rgba(60, 64, 67, 0.15);\n",
              "    fill: var(--button-hover-fill-color);\n",
              "  }\n",
              "\n",
              "  .colab-df-quickchart-complete:disabled,\n",
              "  .colab-df-quickchart-complete:disabled:hover {\n",
              "    background-color: var(--disabled-bg-color);\n",
              "    fill: var(--disabled-fill-color);\n",
              "    box-shadow: none;\n",
              "  }\n",
              "\n",
              "  .colab-df-spinner {\n",
              "    border: 2px solid var(--fill-color);\n",
              "    border-color: transparent;\n",
              "    border-bottom-color: var(--fill-color);\n",
              "    animation:\n",
              "      spin 1s steps(1) infinite;\n",
              "  }\n",
              "\n",
              "  @keyframes spin {\n",
              "    0% {\n",
              "      border-color: transparent;\n",
              "      border-bottom-color: var(--fill-color);\n",
              "      border-left-color: var(--fill-color);\n",
              "    }\n",
              "    20% {\n",
              "      border-color: transparent;\n",
              "      border-left-color: var(--fill-color);\n",
              "      border-top-color: var(--fill-color);\n",
              "    }\n",
              "    30% {\n",
              "      border-color: transparent;\n",
              "      border-left-color: var(--fill-color);\n",
              "      border-top-color: var(--fill-color);\n",
              "      border-right-color: var(--fill-color);\n",
              "    }\n",
              "    40% {\n",
              "      border-color: transparent;\n",
              "      border-right-color: var(--fill-color);\n",
              "      border-top-color: var(--fill-color);\n",
              "    }\n",
              "    60% {\n",
              "      border-color: transparent;\n",
              "      border-right-color: var(--fill-color);\n",
              "    }\n",
              "    80% {\n",
              "      border-color: transparent;\n",
              "      border-right-color: var(--fill-color);\n",
              "      border-bottom-color: var(--fill-color);\n",
              "    }\n",
              "    90% {\n",
              "      border-color: transparent;\n",
              "      border-bottom-color: var(--fill-color);\n",
              "    }\n",
              "  }\n",
              "</style>\n",
              "\n",
              "  <script>\n",
              "    async function quickchart(key) {\n",
              "      const quickchartButtonEl =\n",
              "        document.querySelector('#' + key + ' button');\n",
              "      quickchartButtonEl.disabled = true;  // To prevent multiple clicks.\n",
              "      quickchartButtonEl.classList.add('colab-df-spinner');\n",
              "      try {\n",
              "        const charts = await google.colab.kernel.invokeFunction(\n",
              "            'suggestCharts', [key], {});\n",
              "      } catch (error) {\n",
              "        console.error('Error during call to suggestCharts:', error);\n",
              "      }\n",
              "      quickchartButtonEl.classList.remove('colab-df-spinner');\n",
              "      quickchartButtonEl.classList.add('colab-df-quickchart-complete');\n",
              "    }\n",
              "    (() => {\n",
              "      let quickchartButtonEl =\n",
              "        document.querySelector('#df-7346a3ac-400d-41f0-a2fd-52a16a170bb4 button');\n",
              "      quickchartButtonEl.style.display =\n",
              "        google.colab.kernel.accessAllowed ? 'block' : 'none';\n",
              "    })();\n",
              "  </script>\n",
              "</div>\n",
              "    </div>\n",
              "  </div>\n"
            ]
          },
          "metadata": {},
          "execution_count": 18
        }
      ]
    },
    {
      "cell_type": "markdown",
      "source": [
        "#EDA"
      ],
      "metadata": {
        "id": "p_hd6U8GAAs6"
      }
    },
    {
      "cell_type": "code",
      "source": [
        "# visualisasikan data penjualan itemDescription terbanyak ke line chart dan bar chart\n",
        "plt.figure(figsize=(20,6))\n",
        "\n",
        "plt.subplot(1,2,1)\n",
        "most_sold.plot(kind='line')\n",
        "plt.title('itemDescription Most Sold')\n",
        "\n",
        "plt.subplot(1,2,2)\n",
        "most_sold.plot(kind='bar')\n",
        "plt.title('itemDescription Most Sold')"
      ],
      "metadata": {
        "colab": {
          "base_uri": "https://localhost:8080/",
          "height": 351
        },
        "id": "_ADk0L87_-Dr",
        "outputId": "64a60b55-75bf-4089-8b99-9018648902ba"
      },
      "execution_count": 33,
      "outputs": [
        {
          "output_type": "stream",
          "name": "stderr",
          "text": [
            "/usr/local/lib/python3.10/dist-packages/ipykernel/ipkernel.py:283: DeprecationWarning: `should_run_async` will not call `transform_cell` automatically in the future. Please pass the result to `transformed_cell` argument and any exception that happen during thetransform in `preprocessing_exc_tuple` in IPython 7.17 and above.\n",
            "  and should_run_async(code)\n"
          ]
        },
        {
          "output_type": "execute_result",
          "data": {
            "text/plain": [
              "Text(0.5, 1.0, 'itemDescription Most Sold')"
            ]
          },
          "metadata": {},
          "execution_count": 33
        },
        {
          "output_type": "display_data",
          "data": {
            "text/plain": [
              "<Figure size 2000x600 with 2 Axes>"
            ],
            "image/png": "[encoded data removed]"
          },
          "metadata": {}
        }
      ]
    },
    {
      "cell_type": "code",
      "source": [
        "df.groupby('Month')['itemDescription'].nunique().plot(kind='bar', title='Monthly Sales')\n",
        "plt.show()"
      ],
      "metadata": {
        "colab": {
          "base_uri": "https://localhost:8080/",
          "height": 531
        },
        "id": "IQGBzjWwADJK",
        "outputId": "21e3c725-eb6c-43a3-beff-5cc3f18e3033"
      },
      "execution_count": 21,
      "outputs": [
        {
          "output_type": "stream",
          "name": "stderr",
          "text": [
            "/usr/local/lib/python3.10/dist-packages/ipykernel/ipkernel.py:283: DeprecationWarning: `should_run_async` will not call `transform_cell` automatically in the future. Please pass the result to `transformed_cell` argument and any exception that happen during thetransform in `preprocessing_exc_tuple` in IPython 7.17 and above.\n",
            "  and should_run_async(code)\n"
          ]
        },
        {
          "output_type": "display_data",
          "data": {
            "text/plain": [
              "<Figure size 640x480 with 1 Axes>"
            ],
            "image/png": "[encoded data removed]"
          },
          "metadata": {}
        }
      ]
    },
    {
      "cell_type": "markdown",
      "source": [
        "Data penjualan perbulan cenderung sama dan tidak ada outlier<br>"
      ],
      "metadata": {
        "id": "Uf_MtoTkAI00"
      }
    },
    {
      "cell_type": "code",
      "source": [
        "plt.figure(figsize=(13, 5))\n",
        "sns.set_palette(\"muted\")\n",
        "\n",
        "sns.barplot(x=df[\"itemDescription\"].value_counts()[:10].index,\n",
        "            y=df[\"itemDescription\"].value_counts()[:10].values)\n",
        "plt.xlabel(\"\"); plt.ylabel(\"\")\n",
        "plt.xticks(size=17, rotation=45)\n",
        "plt.title('10 itemDescription yang paling banyak dibeli', size=20)\n",
        "plt.show()"
      ],
      "metadata": {
        "colab": {
          "base_uri": "https://localhost:8080/",
          "height": 431
        },
        "id": "hv00AIclAHE5",
        "outputId": "92ed774c-9052-4a94-e6d8-bc0f312d157b"
      },
      "execution_count": 24,
      "outputs": [
        {
          "output_type": "stream",
          "name": "stderr",
          "text": [
            "/usr/local/lib/python3.10/dist-packages/ipykernel/ipkernel.py:283: DeprecationWarning: `should_run_async` will not call `transform_cell` automatically in the future. Please pass the result to `transformed_cell` argument and any exception that happen during thetransform in `preprocessing_exc_tuple` in IPython 7.17 and above.\n",
            "  and should_run_async(code)\n"
          ]
        },
        {
          "output_type": "display_data",
          "data": {
            "text/plain": [
              "<Figure size 1300x500 with 1 Axes>"
            ],
            "image/png": "[encoded data removed]"
          },
          "metadata": {}
        }
      ]
    },
    {
      "cell_type": "markdown",
      "source": [
        "#Market Basket Analysis"
      ],
      "metadata": {
        "id": "0dT9Z6rFBk7H"
      }
    },
    {
      "cell_type": "markdown",
      "source": [
        "Pertama kita mengubah item list menjadi data transaksi atau Member_number dengan menggunakan TransactionEncoder. Kita akan menggunakan frequent item-sets untuk menghasilkan aturan asosiasi dengan menggunakan algoritma Apriori.<br>"
      ],
      "metadata": {
        "id": "tscG9YMwB5Kq"
      }
    },
    {
      "cell_type": "code",
      "source": [
        "print(df.groupby('Month')['Day'].nunique())"
      ],
      "metadata": {
        "colab": {
          "base_uri": "https://localhost:8080/"
        },
        "id": "PYwOVufDBBOg",
        "outputId": "c826b272-16f5-4c3f-b6e8-6bba6ff1e33f"
      },
      "execution_count": 28,
      "outputs": [
        {
          "output_type": "stream",
          "name": "stdout",
          "text": [
            "Month\n",
            "01    31\n",
            "02    28\n",
            "03    31\n",
            "04    30\n",
            "05    31\n",
            "06    30\n",
            "07    31\n",
            "08    31\n",
            "09    30\n",
            "10    31\n",
            "11    30\n",
            "12    30\n",
            "Name: Day, dtype: int64\n"
          ]
        },
        {
          "output_type": "stream",
          "name": "stderr",
          "text": [
            "/usr/local/lib/python3.10/dist-packages/ipykernel/ipkernel.py:283: DeprecationWarning: `should_run_async` will not call `transform_cell` automatically in the future. Please pass the result to `transformed_cell` argument and any exception that happen during thetransform in `preprocessing_exc_tuple` in IPython 7.17 and above.\n",
            "  and should_run_async(code)\n"
          ]
        }
      ]
    },
    {
      "cell_type": "code",
      "source": [
        "# NOTE : Disini saya lupa mengimpor 2 library ini jadi saya simpan di data market\n",
        "from mlxtend.preprocessing import TransactionEncoder\n",
        "from mlxtend.frequent_patterns import association_rules, apriori"
      ],
      "metadata": {
        "colab": {
          "base_uri": "https://localhost:8080/"
        },
        "id": "tDP922ABBqfW",
        "outputId": "a43323a3-dc37-4660-a161-f53209bea735"
      },
      "execution_count": 29,
      "outputs": [
        {
          "output_type": "stream",
          "name": "stderr",
          "text": [
            "/usr/local/lib/python3.10/dist-packages/ipykernel/ipkernel.py:283: DeprecationWarning: `should_run_async` will not call `transform_cell` automatically in the future. Please pass the result to `transformed_cell` argument and any exception that happen during thetransform in `preprocessing_exc_tuple` in IPython 7.17 and above.\n",
            "  and should_run_async(code)\n"
          ]
        }
      ]
    },
    {
      "cell_type": "markdown",
      "source": [
        "kita membuat list transaction_list() yang unik sehingga kita dapat mengubah data kita ke dalam format yang bena<br>"
      ],
      "metadata": {
        "id": "N9oavZffB-hg"
      }
    },
    {
      "cell_type": "code",
      "source": [
        "transaction_list = []\n",
        "for i in df['Member_number'].unique():\n",
        "    tlist = list(set(df[df['Member_number']==i]['itemDescription']))\n",
        "    if len(tlist)>0:\n",
        "        transaction_list.append(tlist)\n",
        "print(len(transaction_list))"
      ],
      "metadata": {
        "colab": {
          "base_uri": "https://localhost:8080/"
        },
        "id": "WN8un-b8B19t",
        "outputId": "952528a3-f64f-49d9-a236-77f491ac0024"
      },
      "execution_count": 44,
      "outputs": [
        {
          "output_type": "stream",
          "name": "stderr",
          "text": [
            "/usr/local/lib/python3.10/dist-packages/ipykernel/ipkernel.py:283: DeprecationWarning: `should_run_async` will not call `transform_cell` automatically in the future. Please pass the result to `transformed_cell` argument and any exception that happen during thetransform in `preprocessing_exc_tuple` in IPython 7.17 and above.\n",
            "  and should_run_async(code)\n"
          ]
        },
        {
          "output_type": "stream",
          "name": "stdout",
          "text": [
            "3898\n"
          ]
        }
      ]
    },
    {
      "cell_type": "markdown",
      "source": [
        "Saya menggunakan TransactionEncoder untuk merubah bentuk transaction_list()<br>"
      ],
      "metadata": {
        "id": "XIcfM2YECGPd"
      }
    },
    {
      "cell_type": "code",
      "source": [
        "te = TransactionEncoder()\n",
        "te_ary = te.fit(transaction_list).transform(transaction_list)\n",
        "df2 = pd.DataFrame(te_ary, columns=te.columns_)"
      ],
      "metadata": {
        "colab": {
          "base_uri": "https://localhost:8080/"
        },
        "id": "OZgypn2YCCdu",
        "outputId": "c5e190f4-ad2a-4536-f576-c2a1f4bf1fa2"
      },
      "execution_count": 31,
      "outputs": [
        {
          "output_type": "stream",
          "name": "stderr",
          "text": [
            "/usr/local/lib/python3.10/dist-packages/ipykernel/ipkernel.py:283: DeprecationWarning: `should_run_async` will not call `transform_cell` automatically in the future. Please pass the result to `transformed_cell` argument and any exception that happen during thetransform in `preprocessing_exc_tuple` in IPython 7.17 and above.\n",
            "  and should_run_async(code)\n"
          ]
        }
      ]
    },
    {
      "cell_type": "markdown",
      "source": [
        "Sekarang kita terapkan Apriori. Kita akan menggunakan parameter min_threshold (nilai ambang batas yang ditentukan) dalam aturan asosiasi untuk metrik lift menjadi 1,0 karena jika kurang dari satu, maka kedua item tersebut kemungkinan tidak akan dibeli bersama. Kita akan mengurutkan nilai berdasarkan keyakinan untuk melihat kemungkinan suatu bahan makanan dibeli jika pendahulunya dibeli.<br>"
      ],
      "metadata": {
        "id": "EJ6CdfE6CNqp"
      }
    },
    {
      "cell_type": "code",
      "source": [
        "frequent_itemsets = apriori(df2, min_support=0.01, use_colnames=True)\n",
        "rules = association_rules(frequent_itemsets, metric='lift', min_threshold=1.0)\n",
        "metrix = pd.DataFrame(rules)\n",
        "metrix[['antecedents','consequents', 'support', 'confidence', 'lift']].sort_values('lift', ascending=False)"
      ],
      "metadata": {
        "colab": {
          "base_uri": "https://localhost:8080/",
          "height": 601
        },
        "id": "UKogLkcJCLkD",
        "outputId": "bc026c86-b703-415d-d694-cf4074cb222d"
      },
      "execution_count": 32,
      "outputs": [
        {
          "output_type": "stream",
          "name": "stderr",
          "text": [
            "/usr/local/lib/python3.10/dist-packages/ipykernel/ipkernel.py:283: DeprecationWarning: `should_run_async` will not call `transform_cell` automatically in the future. Please pass the result to `transformed_cell` argument and any exception that happen during thetransform in `preprocessing_exc_tuple` in IPython 7.17 and above.\n",
            "  and should_run_async(code)\n"
          ]
        },
        {
          "output_type": "execute_result",
          "data": {
            "text/plain": [
              "                                   antecedents  \\\n",
              "15176  (other vegetables, sausage, whole milk)   \n",
              "15193                     (rolls/buns, yogurt)   \n",
              "15184   (rolls/buns, other vegetables, yogurt)   \n",
              "15185                    (sausage, whole milk)   \n",
              "12801                    (sausage, whole milk)   \n",
              "...                                        ...   \n",
              "7645                                    (soda)   \n",
              "984                            (cream cheese )   \n",
              "985                                (pip fruit)   \n",
              "477                       (whipped/sour cream)   \n",
              "476                              (brown bread)   \n",
              "\n",
              "                                   consequents   support  confidence      lift  \n",
              "15176                     (rolls/buns, yogurt)  0.013597    0.270408  2.428689  \n",
              "15193  (other vegetables, sausage, whole milk)  0.013597    0.122120  2.428689  \n",
              "15184                    (sausage, whole milk)  0.013597    0.259804  2.428575  \n",
              "15185   (rolls/buns, other vegetables, yogurt)  0.013597    0.127098  2.428575  \n",
              "12801                           (curd, yogurt)  0.010005    0.093525  2.322046  \n",
              "...                                        ...       ...         ...       ...  \n",
              "7645     (frozen vegetables, other vegetables)  0.014366    0.045827  1.003549  \n",
              "984                                (pip fruit)  0.015136    0.171014  1.002428  \n",
              "985                            (cream cheese )  0.015136    0.088722  1.002428  \n",
              "477                              (brown bread)  0.021036    0.135987  1.000144  \n",
              "476                       (whipped/sour cream)  0.021036    0.154717  1.000144  \n",
              "\n",
              "[15260 rows x 5 columns]"
            ],
            "text/html": [
              "\n",
              "  <div id=\"df-4bf3fcd1-b3f5-4b44-84ab-55580924d25d\" class=\"colab-df-container\">\n",
              "    <div>\n",
              "<style scoped>\n",
              "    .dataframe tbody tr th:only-of-type {\n",
              "        vertical-align: middle;\n",
              "    }\n",
              "\n",
              "    .dataframe tbody tr th {\n",
              "        vertical-align: top;\n",
              "    }\n",
              "\n",
              "    .dataframe thead th {\n",
              "        text-align: right;\n",
              "    }\n",
              "</style>\n",
              "<table border=\"1\" class=\"dataframe\">\n",
              "  <thead>\n",
              "    <tr style=\"text-align: right;\">\n",
              "      <th></th>\n",
              "      <th>antecedents</th>\n",
              "      <th>consequents</th>\n",
              "      <th>support</th>\n",
              "      <th>confidence</th>\n",
              "      <th>lift</th>\n",
              "    </tr>\n",
              "  </thead>\n",
              "  <tbody>\n",
              "    <tr>\n",
              "      <th>15176</th>\n",
              "      <td>(other vegetables, sausage, whole milk)</td>\n",
              "      <td>(rolls/buns, yogurt)</td>\n",
              "      <td>0.013597</td>\n",
              "      <td>0.270408</td>\n",
              "      <td>2.428689</td>\n",
              "    </tr>\n",
              "    <tr>\n",
              "      <th>15193</th>\n",
              "      <td>(rolls/buns, yogurt)</td>\n",
              "      <td>(other vegetables, sausage, whole milk)</td>\n",
              "      <td>0.013597</td>\n",
              "      <td>0.122120</td>\n",
              "      <td>2.428689</td>\n",
              "    </tr>\n",
              "    <tr>\n",
              "      <th>15184</th>\n",
              "      <td>(rolls/buns, other vegetables, yogurt)</td>\n",
              "      <td>(sausage, whole milk)</td>\n",
              "      <td>0.013597</td>\n",
              "      <td>0.259804</td>\n",
              "      <td>2.428575</td>\n",
              "    </tr>\n",
              "    <tr>\n",
              "      <th>15185</th>\n",
              "      <td>(sausage, whole milk)</td>\n",
              "      <td>(rolls/buns, other vegetables, yogurt)</td>\n",
              "      <td>0.013597</td>\n",
              "      <td>0.127098</td>\n",
              "      <td>2.428575</td>\n",
              "    </tr>\n",
              "    <tr>\n",
              "      <th>12801</th>\n",
              "      <td>(sausage, whole milk)</td>\n",
              "      <td>(curd, yogurt)</td>\n",
              "      <td>0.010005</td>\n",
              "      <td>0.093525</td>\n",
              "      <td>2.322046</td>\n",
              "    </tr>\n",
              "    <tr>\n",
              "      <th>...</th>\n",
              "      <td>...</td>\n",
              "      <td>...</td>\n",
              "      <td>...</td>\n",
              "      <td>...</td>\n",
              "      <td>...</td>\n",
              "    </tr>\n",
              "    <tr>\n",
              "      <th>7645</th>\n",
              "      <td>(soda)</td>\n",
              "      <td>(frozen vegetables, other vegetables)</td>\n",
              "      <td>0.014366</td>\n",
              "      <td>0.045827</td>\n",
              "      <td>1.003549</td>\n",
              "    </tr>\n",
              "    <tr>\n",
              "      <th>984</th>\n",
              "      <td>(cream cheese )</td>\n",
              "      <td>(pip fruit)</td>\n",
              "      <td>0.015136</td>\n",
              "      <td>0.171014</td>\n",
              "      <td>1.002428</td>\n",
              "    </tr>\n",
              "    <tr>\n",
              "      <th>985</th>\n",
              "      <td>(pip fruit)</td>\n",
              "      <td>(cream cheese )</td>\n",
              "      <td>0.015136</td>\n",
              "      <td>0.088722</td>\n",
              "      <td>1.002428</td>\n",
              "    </tr>\n",
              "    <tr>\n",
              "      <th>477</th>\n",
              "      <td>(whipped/sour cream)</td>\n",
              "      <td>(brown bread)</td>\n",
              "      <td>0.021036</td>\n",
              "      <td>0.135987</td>\n",
              "      <td>1.000144</td>\n",
              "    </tr>\n",
              "    <tr>\n",
              "      <th>476</th>\n",
              "      <td>(brown bread)</td>\n",
              "      <td>(whipped/sour cream)</td>\n",
              "      <td>0.021036</td>\n",
              "      <td>0.154717</td>\n",
              "      <td>1.000144</td>\n",
              "    </tr>\n",
              "  </tbody>\n",
              "</table>\n",
              "<p>15260 rows × 5 columns</p>\n",
              "</div>\n",
              "    <div class=\"colab-df-buttons\">\n",
              "\n",
              "  <div class=\"colab-df-container\">\n",
              "    <button class=\"colab-df-convert\" onclick=\"convertToInteractive('df-4bf3fcd1-b3f5-4b44-84ab-55580924d25d')\"\n",
              "            title=\"Convert this dataframe to an interactive table.\"\n",
              "            style=\"display:none;\">\n",
              "\n",
              "  <svg xmlns=\"http://www.w3.org/2000/svg\" height=\"24px\" viewBox=\"0 -960 960 960\">\n",
              "    <path d=\"M120-120v-720h720v720H120Zm60-500h600v-160H180v160Zm220 220h160v-160H400v160Zm0 220h160v-160H400v160ZM180-400h160v-160H180v160Zm440 0h160v-160H620v160ZM180-180h160v-160H180v160Zm440 0h160v-160H620v160Z\"/>\n",
              "  </svg>\n",
              "    </button>\n",
              "\n",
              "  <style>\n",
              "    .colab-df-container {\n",
              "      display:flex;\n",
              "      gap: 12px;\n",
              "    }\n",
              "\n",
              "    .colab-df-convert {\n",
              "      background-color: #E8F0FE;\n",
              "      border: none;\n",
              "      border-radius: 50%;\n",
              "      cursor: pointer;\n",
              "      display: none;\n",
              "      fill: #1967D2;\n",
              "      height: 32px;\n",
              "      padding: 0 0 0 0;\n",
              "      width: 32px;\n",
              "    }\n",
              "\n",
              "    .colab-df-convert:hover {\n",
              "      background-color: #E2EBFA;\n",
              "      box-shadow: 0px 1px 2px rgba(60, 64, 67, 0.3), 0px 1px 3px 1px rgba(60, 64, 67, 0.15);\n",
              "      fill: #174EA6;\n",
              "    }\n",
              "\n",
              "    .colab-df-buttons div {\n",
              "      margin-bottom: 4px;\n",
              "    }\n",
              "\n",
              "    [theme=dark] .colab-df-convert {\n",
              "      background-color: #3B4455;\n",
              "      fill: #D2E3FC;\n",
              "    }\n",
              "\n",
              "    [theme=dark] .colab-df-convert:hover {\n",
              "      background-color: #434B5C;\n",
              "      box-shadow: 0px 1px 3px 1px rgba(0, 0, 0, 0.15);\n",
              "      filter: drop-shadow(0px 1px 2px rgba(0, 0, 0, 0.3));\n",
              "      fill: #FFFFFF;\n",
              "    }\n",
              "  </style>\n",
              "\n",
              "    <script>\n",
              "      const buttonEl =\n",
              "        document.querySelector('#df-4bf3fcd1-b3f5-4b44-84ab-55580924d25d button.colab-df-convert');\n",
              "      buttonEl.style.display =\n",
              "        google.colab.kernel.accessAllowed ? 'block' : 'none';\n",
              "\n",
              "      async function convertToInteractive(key) {\n",
              "        const element = document.querySelector('#df-4bf3fcd1-b3f5-4b44-84ab-55580924d25d');\n",
              "        const dataTable =\n",
              "          await google.colab.kernel.invokeFunction('convertToInteractive',\n",
              "                                                    [key], {});\n",
              "        if (!dataTable) return;\n",
              "\n",
              "        const docLinkHtml = 'Like what you see? Visit the ' +\n",
              "          '<a target=\"_blank\" href=https://colab.research.google.com/notebooks/data_table.ipynb>data table notebook</a>'\n",
              "          + ' to learn more about interactive tables.';\n",
              "        element.innerHTML = '';\n",
              "        dataTable['output_type'] = 'display_data';\n",
              "        await google.colab.output.renderOutput(dataTable, element);\n",
              "        const docLink = document.createElement('div');\n",
              "        docLink.innerHTML = docLinkHtml;\n",
              "        element.appendChild(docLink);\n",
              "      }\n",
              "    </script>\n",
              "  </div>\n",
              "\n",
              "\n",
              "<div id=\"df-cec98a37-904a-4c51-a5c3-6ccbd6074653\">\n",
              "  <button class=\"colab-df-quickchart\" onclick=\"quickchart('df-cec98a37-904a-4c51-a5c3-6ccbd6074653')\"\n",
              "            title=\"Suggest charts\"\n",
              "            style=\"display:none;\">\n",
              "\n",
              "<svg xmlns=\"http://www.w3.org/2000/svg\" height=\"24px\"viewBox=\"0 0 24 24\"\n",
              "     width=\"24px\">\n",
              "    <g>\n",
              "        <path d=\"M19 3H5c-1.1 0-2 .9-2 2v14c0 1.1.9 2 2 2h14c1.1 0 2-.9 2-2V5c0-1.1-.9-2-2-2zM9 17H7v-7h2v7zm4 0h-2V7h2v10zm4 0h-2v-4h2v4z\"/>\n",
              "    </g>\n",
              "</svg>\n",
              "  </button>\n",
              "\n",
              "<style>\n",
              "  .colab-df-quickchart {\n",
              "      --bg-color: #E8F0FE;\n",
              "      --fill-color: #1967D2;\n",
              "      --hover-bg-color: #E2EBFA;\n",
              "      --hover-fill-color: #174EA6;\n",
              "      --disabled-fill-color: #AAA;\n",
              "      --disabled-bg-color: #DDD;\n",
              "  }\n",
              "\n",
              "  [theme=dark] .colab-df-quickchart {\n",
              "      --bg-color: #3B4455;\n",
              "      --fill-color: #D2E3FC;\n",
              "      --hover-bg-color: #434B5C;\n",
              "      --hover-fill-color: #FFFFFF;\n",
              "      --disabled-bg-color: #3B4455;\n",
              "      --disabled-fill-color: #666;\n",
              "  }\n",
              "\n",
              "  .colab-df-quickchart {\n",
              "    background-color: var(--bg-color);\n",
              "    border: none;\n",
              "    border-radius: 50%;\n",
              "    cursor: pointer;\n",
              "    display: none;\n",
              "    fill: var(--fill-color);\n",
              "    height: 32px;\n",
              "    padding: 0;\n",
              "    width: 32px;\n",
              "  }\n",
              "\n",
              "  .colab-df-quickchart:hover {\n",
              "    background-color: var(--hover-bg-color);\n",
              "    box-shadow: 0 1px 2px rgba(60, 64, 67, 0.3), 0 1px 3px 1px rgba(60, 64, 67, 0.15);\n",
              "    fill: var(--button-hover-fill-color);\n",
              "  }\n",
              "\n",
              "  .colab-df-quickchart-complete:disabled,\n",
              "  .colab-df-quickchart-complete:disabled:hover {\n",
              "    background-color: var(--disabled-bg-color);\n",
              "    fill: var(--disabled-fill-color);\n",
              "    box-shadow: none;\n",
              "  }\n",
              "\n",
              "  .colab-df-spinner {\n",
              "    border: 2px solid var(--fill-color);\n",
              "    border-color: transparent;\n",
              "    border-bottom-color: var(--fill-color);\n",
              "    animation:\n",
              "      spin 1s steps(1) infinite;\n",
              "  }\n",
              "\n",
              "  @keyframes spin {\n",
              "    0% {\n",
              "      border-color: transparent;\n",
              "      border-bottom-color: var(--fill-color);\n",
              "      border-left-color: var(--fill-color);\n",
              "    }\n",
              "    20% {\n",
              "      border-color: transparent;\n",
              "      border-left-color: var(--fill-color);\n",
              "      border-top-color: var(--fill-color);\n",
              "    }\n",
              "    30% {\n",
              "      border-color: transparent;\n",
              "      border-left-color: var(--fill-color);\n",
              "      border-top-color: var(--fill-color);\n",
              "      border-right-color: var(--fill-color);\n",
              "    }\n",
              "    40% {\n",
              "      border-color: transparent;\n",
              "      border-right-color: var(--fill-color);\n",
              "      border-top-color: var(--fill-color);\n",
              "    }\n",
              "    60% {\n",
              "      border-color: transparent;\n",
              "      border-right-color: var(--fill-color);\n",
              "    }\n",
              "    80% {\n",
              "      border-color: transparent;\n",
              "      border-right-color: var(--fill-color);\n",
              "      border-bottom-color: var(--fill-color);\n",
              "    }\n",
              "    90% {\n",
              "      border-color: transparent;\n",
              "      border-bottom-color: var(--fill-color);\n",
              "    }\n",
              "  }\n",
              "</style>\n",
              "\n",
              "  <script>\n",
              "    async function quickchart(key) {\n",
              "      const quickchartButtonEl =\n",
              "        document.querySelector('#' + key + ' button');\n",
              "      quickchartButtonEl.disabled = true;  // To prevent multiple clicks.\n",
              "      quickchartButtonEl.classList.add('colab-df-spinner');\n",
              "      try {\n",
              "        const charts = await google.colab.kernel.invokeFunction(\n",
              "            'suggestCharts', [key], {});\n",
              "      } catch (error) {\n",
              "        console.error('Error during call to suggestCharts:', error);\n",
              "      }\n",
              "      quickchartButtonEl.classList.remove('colab-df-spinner');\n",
              "      quickchartButtonEl.classList.add('colab-df-quickchart-complete');\n",
              "    }\n",
              "    (() => {\n",
              "      let quickchartButtonEl =\n",
              "        document.querySelector('#df-cec98a37-904a-4c51-a5c3-6ccbd6074653 button');\n",
              "      quickchartButtonEl.style.display =\n",
              "        google.colab.kernel.accessAllowed ? 'block' : 'none';\n",
              "    })();\n",
              "  </script>\n",
              "</div>\n",
              "    </div>\n",
              "  </div>\n"
            ]
          },
          "metadata": {},
          "execution_count": 32
        }
      ]
    },
    {
      "cell_type": "markdown",
      "source": [
        "**KESIMPULAN**<br>\n",
        "Berdasarkan analisa hasil yang telah dilakukan, didapatkan kesimpulan sebagai berikut:<br>\n",
        "\n",
        "1.Semakin tinggi nilai suatu lift yang didapatkan menggunakan metode market basket analysis oleh algoritma apriori, maka semakin kuat hubungan antar item barang yang dijual. Data dengan jelas menunjukkan bahwa whole milk adalah bahan makanan yang paling banyak terjual.<br>\n",
        "\n",
        "2.Adanya hubungan pada item Antecedent (IF) yang dibeli pelanggan, maka kemungkinan item Consequent (THEN) diambil oleh pelanggan dengan ID pelanggan yang sama juga.<br>\n",
        "\n",
        "3.Bisnis selalu mencari cara untuk mengoptimalkan pengaturan dan meningkatkan penjualan. Oleh karena sekarang sudah mengetahui pola hubungan antara barang dan kepentingan bersama pelanggan, bisnis dapat membuat keputusan strategi pemasaran berdasarkan penelitian ini. Misalnya, toko groceries mungkin tertarik untuk mengadakan promosi barang gratis, mengingat kemungkinan besar item lain dijual sebagai hasilnya (misalkan, jika mereka mengadakan promo buy 1 get 1 khusus special event, itu mungkin tidak hanya menarik pelanggan baru yang sering datang, tetapi juga ada peluang yang sangat bagus bahwa pelanggan masih akan menghabiskan uang untuk whole milk).<br>"
      ],
      "metadata": {
        "id": "267t4fX4CUzw"
      }
    }
  ]
}